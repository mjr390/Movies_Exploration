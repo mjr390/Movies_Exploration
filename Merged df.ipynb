{
 "cells": [
  {
   "cell_type": "code",
   "execution_count": 1,
   "metadata": {},
   "outputs": [],
   "source": [
    "import pandas as pd\n",
    "import numpy as np\n",
    "import json\n",
    "from ast import literal_eval\n",
    "from vaderSentiment.vaderSentiment import SentimentIntensityAnalyzer\n",
    "analyzer = SentimentIntensityAnalyzer()"
   ]
  },
  {
   "cell_type": "code",
   "execution_count": 17,
   "metadata": {},
   "outputs": [
    {
     "data": {
      "text/plain": [
       "4803"
      ]
     },
     "execution_count": 17,
     "metadata": {},
     "output_type": "execute_result"
    }
   ],
   "source": [
    "#brings in the dfs, cleans them\n",
    "\n",
    "df1 = pd.read_csv(\"tmdb_5000_movies.csv\")\n",
    "df1['release_date'] = pd.to_datetime(df1['release_date']).apply(lambda x: x.date())\n",
    "json_columns = ['genres', 'keywords', 'production_countries', 'production_companies', 'spoken_languages']\n",
    "for column in json_columns:\n",
    "    df1[column] = df1[column].apply(json.loads)\n",
    "df1 = df1[[\"budget\", \"genres\", \"original_title\", \"popularity\", \"production_companies\",\n",
    "                      \"release_date\", \"revenue\", \"runtime\", \"vote_average\", \"vote_count\", \"overview\"]]\n",
    "df1 = df1.reset_index(drop=True)\n",
    "\n",
    "for index, row in df1.iterrows():\n",
    "    g=[]\n",
    "    for i in range(len(df1[\"genres\"][index])):\n",
    "        g.append(df1[\"genres\"][index][i].get(\"name\"))\n",
    "    df1.at[index, 'genres'] =g\n",
    "           \n",
    "for index, row in df1.iterrows():\n",
    "    c=[]\n",
    "    for i in range(len(df1[\"production_companies\"][index])):\n",
    "        c.append(df1[\"production_companies\"][index][i].get(\"name\"))\n",
    "    df1.at[index, 'production_companies'] =c\n",
    "    \n",
    "len(df1)"
   ]
  },
  {
   "cell_type": "code",
   "execution_count": 18,
   "metadata": {},
   "outputs": [
    {
     "data": {
      "text/plain": [
       "341"
      ]
     },
     "execution_count": 18,
     "metadata": {},
     "output_type": "execute_result"
    }
   ],
   "source": [
    "df2 = pd.read_csv(\"2017_movie_info.csv\")\n",
    "df2['release_date'] = pd.to_datetime(df2['release_date']).apply(lambda x: x.date())\n",
    "df2[\"genres\"] = df2[\"genres\"].apply(literal_eval)\n",
    "df2[\"production_companies\"] = df2[\"production_companies\"].apply(literal_eval)\n",
    "df2.drop('id', axis=1, inplace=True)\n",
    "df2 = df2.reset_index(drop=True)\n",
    "len(df2)\n"
   ]
  },
  {
   "cell_type": "code",
   "execution_count": 31,
   "metadata": {},
   "outputs": [
    {
     "data": {
      "text/plain": [
       "3490"
      ]
     },
     "execution_count": 31,
     "metadata": {},
     "output_type": "execute_result"
    }
   ],
   "source": [
    "df = pd.concat([df1,df2],axis=0, join='outer',ignore_index=True)\n",
    "\n",
    "#clean_df = df.loc[df[\"budget\"] != 0]\n",
    "#clean_df = df.loc[df[\"revenue\"] != 0]\n",
    "clean_df = df.loc[df[\"vote_count\"]>100].reset_index()\n",
    "#clean_df = df.loc[df[\"production_companies\"] != []]\n",
    "\n",
    "\n",
    "len(clean_df)"
   ]
  },
  {
   "cell_type": "code",
   "execution_count": 32,
   "metadata": {},
   "outputs": [
    {
     "data": {
      "text/plain": [
       "3490"
      ]
     },
     "execution_count": 32,
     "metadata": {},
     "output_type": "execute_result"
    }
   ],
   "source": [
    "#runs vader\n",
    "compound_score =[]\n",
    "for index, row in clean_df.iterrows():\n",
    "    try:\n",
    "        results = analyzer.polarity_scores(clean_df[\"overview\"][index])\n",
    "        comp = results[\"compound\"]  \n",
    "    except:\n",
    "        comp=None\n",
    "    compound_score.append(comp)\n",
    "        \n",
    "clean_df[\"compound_score\"] = compound_score\n",
    "clean_df.to_csv(\"movies_with_compound.csv\", index=False, header=True)\n",
    "clean_df.head(2)\n",
    "len(clean_df)"
   ]
  },
  {
   "cell_type": "code",
   "execution_count": 43,
   "metadata": {},
   "outputs": [
    {
     "data": {
      "text/plain": [
       "['Action',\n",
       " 'Adventure',\n",
       " 'Fantasy',\n",
       " 'Science Fiction',\n",
       " 'Crime',\n",
       " 'Drama',\n",
       " 'Thriller',\n",
       " 'Animation',\n",
       " 'Family',\n",
       " 'Western',\n",
       " 'Comedy',\n",
       " 'Romance',\n",
       " 'Horror',\n",
       " 'Mystery',\n",
       " 'History',\n",
       " 'War',\n",
       " 'Music',\n",
       " 'Documentary',\n",
       " 'TV Movie']"
      ]
     },
     "execution_count": 43,
     "metadata": {},
     "output_type": "execute_result"
    }
   ],
   "source": [
    "#Unique genres list\n",
    "\n",
    "unique_genres = []\n",
    "\n",
    "for i in range(len(clean_df)):\n",
    "     for j in range(len(clean_df[\"genres\"][i])):\n",
    "        if clean_df[\"genres\"][i][j] not in unique_genres:\n",
    "            unique_genres.append(clean_df[\"genres\"][i][j])\n",
    "unique_genres            \n"
   ]
  },
  {
   "cell_type": "code",
   "execution_count": 42,
   "metadata": {},
   "outputs": [
    {
     "ename": "SyntaxError",
     "evalue": "unexpected EOF while parsing (<ipython-input-42-340c934415c0>, line 3)",
     "output_type": "error",
     "traceback": [
      "\u001b[0;36m  File \u001b[0;32m\"<ipython-input-42-340c934415c0>\"\u001b[0;36m, line \u001b[0;32m3\u001b[0m\n\u001b[0;31m    clean_df = clean_df.loc[clean_df[\"genres\"][i]\u001b[0m\n\u001b[0m                                                 ^\u001b[0m\n\u001b[0;31mSyntaxError\u001b[0m\u001b[0;31m:\u001b[0m unexpected EOF while parsing\n"
     ]
    }
   ],
   "source": [
    "for i in range(len(clean_df)):\n",
    "    if clean_df[\"genres\"][i] != []:\n",
    "        clean_df = clean_df.loc[clean_df[\"genres\"][i]\n"
   ]
  },
  {
   "cell_type": "code",
   "execution_count": null,
   "metadata": {},
   "outputs": [],
   "source": [
    "genres_list = []\n",
    "budget_list = []\n",
    "title_list = []\n",
    "popularity_list = []\n",
    "company_list = []\n",
    "revenue_list = []\n",
    "runtime_list = []\n",
    "rating_list = []\n",
    "compound_list = []\n",
    "for i in range(len(clean_df)):\n",
    "    for item in clean_df[\"genres\"][i]:\n",
    "        genres_list.append(item)\n",
    "        budget_list.append(clean_df[\"budget\"][i])\n",
    "        title_list.append(clean_df[\"original_title\"][i]\n",
    "        popularity_list.append(clean_df[\"popularity\"][i]*len(df[\"genres\"][i]))\n",
    "        company_list.append(clean_df[\"production_companies\"][i]*len(df[\"genres\"][i]))\n",
    "        revenue_list.append(clean_df[\"revenue\"][i]*len(df[\"genres\"][i]))\n",
    "        runtime_list.append(clean_df[\"runtime\"][i]*len(df[\"genres\"][i]))\n",
    "        rating_list.append(clean_df[\"vote_average\"][i]*len(df[\"genres\"][i]))\n",
    "        compound_list.append(clean_df[\"compound_score\"][i]*len(df[\"genres\"][i]))\n",
    "\n",
    "print(len(genres_list))  \n",
    "print(len(budget_list))\n",
    "print(len(title_list))"
   ]
  },
  {
   "cell_type": "code",
   "execution_count": null,
   "metadata": {},
   "outputs": [],
   "source": [
    "##THIS BLOCK IS NOT BEING USED\n",
    "\n",
    "#after single code is complete, create a loop for each genre and a master blank list to append each genre name and avg value to\n",
    "#create a df with that list to use to plot the data\n",
    "import statistics\n",
    "count = 0\n",
    "Action = []\n",
    "checks = []\n",
    "for index,row in clean_df1.iterrows():\n",
    "    #print(row)\n",
    "    \n",
    "    lista = []\n",
    "    jdata = json.loads(clean_df1[\"genres\"][index])\n",
    "#     Action.append(jdata)\n",
    "#     print(\"Hi\")\n",
    "#     print(len(Action))\n",
    "#     break\n",
    "    for d in jdata:\n",
    "#         if d[\"name\"] == \"Action\":\n",
    "#             act = clean_df1[\"vote_average\"]\n",
    "        if d[\"name\"] not in lista:\n",
    "            lista.append(d['name'])\n",
    "#         Action.append(act)\n",
    "#         break    \n",
    "            \n",
    "#             Action.append(d['name'])\n",
    "#     clean_df1.set_value(index, \"genres\", lista)        \n",
    "#             count += 1\n",
    "#     print(lista)\n",
    "# Action_df = clean_df1.loc[clean_df1[\"genres\"] == \"Action\"]\n",
    "    if \"Action\" in lista:\n",
    "#         Action.append(clean_df1[\"vote_average\"]) #use a loc, this line is the issue\n",
    "        check= clean_df1[\"revenue\"]\n",
    "        act = clean_df1[\"vote_average\"]\n",
    "        name1 = \"Action\"\n",
    "#         print(act)\n",
    "#         print(name1)\n",
    "        Action.append({\"genre\":name1,\"Voter Avg\":act, \"Revenue\":check})\n",
    "# #     check= clean_df1.loc[clean_df1[\"genres\"]]        \n",
    "        break\n",
    "        \n",
    "        \n",
    "# df.set_value('index pos', 'column', value to put in)        \n",
    "        \n",
    "# ActionAvg = statistics.mean(Action)\n",
    "# Action2 = pd.DataFrame.from_dict(Action)\n",
    "# Action = Action.transpose()\n",
    "print(Action)\n",
    "# ActionAvg = Action.mean(axis=1)\n",
    "# checks.append(ActionAvg)\n",
    "# checks\n",
    "# clean_df1.head()\n",
    "# print(lista)"
   ]
  },
  {
   "cell_type": "code",
   "execution_count": null,
   "metadata": {},
   "outputs": [],
   "source": [
    "#genres code\n",
    "import statistics\n",
    "\n",
    "Action = []\n",
    "Adventure = []\n",
    "Fantasy = []\n",
    "Science_Fiction = []\n",
    "Crime = []\n",
    "Drama = []\n",
    "Thriller = []\n",
    "Animation = []\n",
    "Family = []\n",
    "Western = []\n",
    "Comedy = []\n",
    "Romance = []\n",
    "Horror = []\n",
    "Mystery = []\n",
    "History = []\n",
    "War = []\n",
    "Music = []\n",
    "Documentary = []\n",
    "TV_Movie = []\n",
    "\n",
    "\n",
    "\n",
    "for index,row in clean_df1.iterrows():\n",
    "    \n",
    "    jdata = json.loads(clean_df1[\"genres\"][index])\n",
    "\n",
    "    for d in jdata:\n",
    "\n",
    "        if d[\"id\"] == 28:\n",
    "            Action.append(row)\n",
    "            \n",
    "        if d[\"id\"] == 12:\n",
    "            Adventure.append(row) \n",
    "        \n",
    "        if d[\"name\"] == \"Fantasy\":\n",
    "            Fantasy.append(row)  \n",
    "            \n",
    "        if d[\"name\"] == \"Science Fiction\":\n",
    "            Science_Fiction.append(row)  \n",
    "            \n",
    "        if d[\"name\"] == \"Crime\":\n",
    "            Crime.append(row)  \n",
    "            \n",
    "        if d[\"name\"] == \"Drama\":\n",
    "            Drama.append(row)  \n",
    "            \n",
    "        if d[\"name\"] == \"Thriller\":\n",
    "            Thriller.append(row)  \n",
    "            \n",
    "        if d[\"name\"] == \"Animation\":\n",
    "            Animation.append(row)  \n",
    "        \n",
    "        if d[\"name\"] == \"Family\":\n",
    "            Family.append(row)  \n",
    "        \n",
    "        if d[\"name\"] == \"Western\":\n",
    "            Western.append(row)  \n",
    "            \n",
    "        if d[\"name\"] == \"Comedy\":\n",
    "            Comedy.append(row)  \n",
    "            \n",
    "        if d[\"name\"] == \"Romance\":\n",
    "            Romance.append(row)  \n",
    "            \n",
    "        if d[\"name\"] == \"Horror\":\n",
    "            Horror.append(row)  \n",
    "         \n",
    "        if d[\"name\"] == \"Mystery\":\n",
    "            Mystery.append(row)  \n",
    "            \n",
    "        if d[\"name\"] == \"History\":\n",
    "            History.append(row)  \n",
    "            \n",
    "        if d[\"name\"] == \"War\":\n",
    "            War.append(row)  \n",
    "            \n",
    "        if d[\"name\"] == \"Music\":\n",
    "            Music.append(row)  \n",
    "            \n",
    "        if d[\"name\"] == \"Documentary\":\n",
    "            Documentary.append(row)  \n",
    "            \n",
    "        if d[\"name\"] == \"TV Movie\":\n",
    "            TV_Movie.append(row)      \n",
    "        \n",
    "\n",
    "Action_df = pd.DataFrame(Action)\n",
    "Adventure_df = pd.DataFrame(Adventure)\n",
    "Fantasy_df = pd.DataFrame(Fantasy)\n",
    "Science_Fiction_df = pd.DataFrame(Science_Fiction)\n",
    "Crime_df = pd.DataFrame(Crime)\n",
    "Drama_df = pd.DataFrame(Drama)\n",
    "Thriller_df = pd.DataFrame(Thriller)\n",
    "Animation_df = pd.DataFrame(Animation)\n",
    "Family_df = pd.DataFrame(Family)\n",
    "Western_df = pd.DataFrame(Western)\n",
    "Comedy_df = pd.DataFrame(Comedy)\n",
    "Romance_df = pd.DataFrame(Romance)\n",
    "Horror_df = pd.DataFrame(Horror)\n",
    "Mystery_df = pd.DataFrame(Mystery)\n",
    "History_df = pd.DataFrame(History)\n",
    "War_df = pd.DataFrame(War)\n",
    "Music_df = pd.DataFrame(Music)\n",
    "Documentary_df = pd.DataFrame(Documentary)\n",
    "TV_Movie_df = pd.DataFrame(TV_Movie)\n",
    "\n",
    "\n",
    "##The code under here works to be used elsewhere\n",
    "# sums = []\n",
    "# for index,row in Adventure_df.iterrows():\n",
    "#     sums.append(Adventure_df[\"vote_average\"][index])\n",
    "# averages = (sum(sums)/len(sums)).round(2)    \n",
    "# averages\n",
    "##The code above works to be used elsewhere"
   ]
  },
  {
   "cell_type": "code",
   "execution_count": null,
   "metadata": {},
   "outputs": [],
   "source": [
    "#company code NOT FINISHED\n",
    "unique_companies = []\n",
    "unique_companies_to_list=[]\n",
    "for row in clean_df1[\"production_companies\"]:\n",
    "    jdata = json.loads(row)\n",
    "    for d in jdata:\n",
    "        if d[\"id\"] not in unique_companies:\n",
    "            unique_companies.append(d['id'])\n",
    "            unique_companies_to_list.append(d['id'])\n",
    "for n in unique_companies_to_list:\n",
    "    globals()[n] = []    "
   ]
  },
  {
   "cell_type": "code",
   "execution_count": null,
   "metadata": {},
   "outputs": [],
   "source": [
    "#used to create empty lists out of each element in a list\n",
    "# yup = ['a', 'b', 'c']\n",
    "# for n in yup:\n",
    "#     globals()[n] = []\n",
    "unique_companies_to_list\n"
   ]
  },
  {
   "cell_type": "code",
   "execution_count": null,
   "metadata": {},
   "outputs": [],
   "source": [
    "#example code NOT USED\n",
    "l={1:\"one\",2:\"two\"}\n",
    "print(l)\n",
    "for k,v in l.items():\n",
    "    print(k)\n",
    "    "
   ]
  },
  {
   "cell_type": "code",
   "execution_count": null,
   "metadata": {},
   "outputs": [],
   "source": [
    "#2017 names\n",
    "test_text = pd.read_csv('Names_2017.csv')\n",
    "test_text = pd.DataFrame(test_text)\n",
    "test_text.head()"
   ]
  },
  {
   "cell_type": "code",
   "execution_count": null,
   "metadata": {},
   "outputs": [],
   "source": [
    "for movie in test_text[\"Title\"]:\n",
    "    print(movie)"
   ]
  },
  {
   "cell_type": "code",
   "execution_count": null,
   "metadata": {},
   "outputs": [],
   "source": [
    "#zip genre and codes\n",
    "unique_genres = []\n",
    "g_codes = []\n",
    "for row in clean_df1[\"genres\"]:\n",
    "    jdata = json.loads(row)\n",
    "    for d in jdata:\n",
    "        if d[\"name\"] not in unique_genres:\n",
    "            unique_genres.append(d['name'])\n",
    "            g_codes.append(d['id'])\n",
    "zipped = zip(g_codes, unique_genres)  \n",
    "list(zipped)"
   ]
  },
  {
   "cell_type": "code",
   "execution_count": null,
   "metadata": {},
   "outputs": [],
   "source": [
    "#vader code was written here and copy/pasted to the top\n",
    "# from vaderSentiment.vaderSentiment import SentimentIntensityAnalyzer\n",
    "# analyzer = SentimentIntensityAnalyzer()\n",
    "# compund = []\n",
    "\n",
    "# for index, row in clean_df1.iterrows():\n",
    "#     results = analyzer.polarity_scores(clean_df1[\"overview\"][index])\n",
    "\n",
    "#     comp = results[\"compound\"]\n",
    "#     compund.append(comp)\n",
    "# clean_df1[\"compound_score\"] = compund   \n",
    "# clean_df1.head()"
   ]
  },
  {
   "cell_type": "code",
   "execution_count": null,
   "metadata": {},
   "outputs": [],
   "source": []
  }
 ],
 "metadata": {
  "kernelspec": {
   "display_name": "Python 3",
   "language": "python",
   "name": "python3"
  },
  "language_info": {
   "codemirror_mode": {
    "name": "ipython",
    "version": 3
   },
   "file_extension": ".py",
   "mimetype": "text/x-python",
   "name": "python",
   "nbconvert_exporter": "python",
   "pygments_lexer": "ipython3",
   "version": "3.6.4"
  }
 },
 "nbformat": 4,
 "nbformat_minor": 2
}
